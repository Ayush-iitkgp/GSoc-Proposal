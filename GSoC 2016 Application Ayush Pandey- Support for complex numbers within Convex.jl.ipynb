{
 "cells": [
  {
   "cell_type": "markdown",
   "metadata": {},
   "source": [
    "# GSoC 2016 Application Ayush Pandey: Support for complex numbers within Convex.jl"
   ]
  },
  {
   "cell_type": "markdown",
   "metadata": {},
   "source": [
    "## About Me\n",
    "\n",
    "### Username and Contact Information\n",
    "\n",
    "**Name**            :   Ayush Pandey\n",
    "\n",
    "**University**      :   [Indian Institute of Technology (IIT), Kharagpur](http://iitkgp.ac.in)\n",
    "\n",
    "**email**           :   ayushpandey.iitkg@gmail.com\n",
    "\n",
    "**IRC Handle**      :   KrishnaKanhaiya at freenode.net\n",
    "\n",
    "**github username** :   [Ayush-iitkgp](https://github.com/Ayush-iitkgp)\n",
    "\n",
    "\n",
    "### Personal Background\n",
    "\n",
    "Hello, I am Ayush Pandey, a 4th year undergraduate student pursuing an Integrated Master of Science(MS) degree in Mathematics and Computing Sciences with micro-specialization in Optimization Theory and Applications\n",
    "at IIT Kharagpur, India.  I'm proficient in C, C++, Java and Python. I would rate my proficiency level as moderate in Julia.\n",
    "\n",
    "### Previous Experience\n",
    "\n",
    "My first encounter with the field of optimization and operation research was during my 3rd year in the college when I took a course in Operation Research. As a part of the course, we were asked to code the Linear Programming methods [source code](https://github.com/Ayush-iitkgp/Linear-Programming). I seem to have enjoyed the course a lot and since then have been reading optimzation. I was also chosen to be a part of the IIT Kharagpur's contingent in [4th InterIIT TechMeet](https://github.com/Ayush-iitkgp/Linear-Programming) where IIT Kharagpur won gold medal in Portfolio Optimization Event where we had to present the solution of the Cardinality Contrained Efficient Frontier which we solved using 3 heuristic methods namely Genetic Algorith, Tabu Search and Simulated Annealing [source code](https://github.com/Ayush-iitkgp/InterIIT-TechMeet), finally our team managed to wing gold medal beating different teams all across IITs all across India.\n",
    "\n",
    "### Relevant Courses \n",
    "* Operation Research (Theory and Lab)\n",
    "* Non-Linear Programming (ongoing)\n",
    "* Convex Optimization (ongoing)\n",
    "* Linear Algebra, Group Theory\n",
    "\n",
    "### Contribution to Open-Source Projects\n",
    "* (**Merged**) `Added solution Unconstrained Markowitz Efficient Frontier example.`[#128](https://github.com/JuliaOpt/Convex.jl/pull/128)\n",
    "\n",
    "\n",
    "* (**Open**) `Added sdp examples.`[#129](https://github.com/JuliaOpt/Convex.jl/pull/129)\n",
    "\n",
    "\n",
    "* (**Open**) `Corrected Pass to solver: stuff matrices objective function.`[#9](https://github.com/JuliaCon/presentations/pull/9)\n",
    "\n",
    "### Experience with Julia\n",
    "I have been using Julia for last one and half month. In terms of functionality, I like Julia because of its **multiple dispatch** feature as it lets me override operatos with a lot ease than other programming languages.\n",
    "\n",
    "But the most anstonishing feature of Julia is that its empowering. In other high-level languages, the users can not be developers becuase developing new packages in those language require the programmer to know the intricacies of low-level language whereas in Julia, users can develop packages for their needs in Julia itself without compromising with the speed.  "
   ]
  },
  {
   "cell_type": "markdown",
   "metadata": {},
   "source": [
    "## The Project\n",
    "\n",
    "### The Problem and Motivations\n",
    "The aim of the project is to add the support for solving complex semidefinite programs (SDP) in Convex.jl (a Julia package for Disciplined Convex Programming).\n",
    "\n",
    "Many problems in applied sciences are posed as optimization problems over the complex field such as Phase retrieval from sparse signals, designing an FIR filter given a desired frequency response etc.\n",
    "\n",
    "The present approach is to manually convert the complex-domain problems to real-domain problems ([example](http://nbviewer.jupyter.org/github/cvxgrp/cvxpy/blob/master/examples/notebooks/WWW/fir_chebychev_design.ipynb)) and pass to solvers. This process can be time consuming and non-intuitive sometimes. The correct approach to such problem is to make our existing packages deal with complex-domain projects. Thus, during this summer I aim to implement the above functionality in Convex.jl.\n",
    "\n",
    "\n",
    "\n",
    "\n",
    "\n",
    "\n",
    "\n"
   ]
  },
  {
   "cell_type": "markdown",
   "metadata": {},
   "source": [
    "## The Plan\n",
    "I propose to implement required functionality in Convex.jl so that it could accept and solve the complex-domain problems(mainly SDP) without having the users to explicitly convert the complex SDPs to real SDPs.\n",
    "\n",
    "### Mathematical Formulation\n",
    "\n",
    "#### Definitions\n",
    "\n",
    "** Hermitian Matrix -** A matrix $X \\in \\mathbf{C}^{n \\times n}$ is hermitian if $X = X^*$ where $X^*$ is the conjugate transpose of the X.\n",
    "\n",
    "\n",
    "**Complex Positive Semidefinite Matrix - ** A matrix $X \\in \\mathbf{C}^{n \\times n}$ is positive semidefinite, we write as \n",
    "$X \\succeq 0$ if for all column vectors $\\alpha \\in \\mathbf{C}^n$, we have \n",
    "\n",
    "$\\alpha^T X \\alpha \\geq$ 0\n",
    "\n",
    "** Notation -** The innner product of two complex matrixces (let X,Y) is represented as $<X,Y>$.\n",
    "\n",
    "**Note -** The inner product of two hermitian matrices is always real\n",
    "\n",
    "#### Comple Semidifinite Program\n",
    "A complex semidefinite program is an optimization problem of the form\n",
    "\n",
    "** minimize**     $<X,C>$\n",
    "\n",
    "**subject to **\n",
    "\n",
    "X $\\succeq 0$\n",
    "\n",
    "$<X,A_1> = b_1$\n",
    "\n",
    "$<X,A_2> = b_2$\n",
    "\n",
    ".\n",
    ".\n",
    ".\n",
    "\n",
    "$<X,A_m> = b_m$\n",
    "\n",
    "where $A_1, A_2,....,A_m \\in \\mathbf{C}^{n \\times n}$ and $C \\in \\mathbf{C}^{n \\times n}$ are known Hemitiam matrices, $b_1,....b_m \\in \\mathbf{R}$ are known numbers and $X \\in \\mathbf {C}^{n \\times n}$ is the variable Hermitian matrix."
   ]
  },
  {
   "cell_type": "markdown",
   "metadata": {},
   "source": [
    "## Execution\n",
    "\n",
    "The problem of complex optimization can be tackled using the bijective transformation from the ${C}^{n \\times n}$ space to the ${R}^{2n \\times 2n}$ space.\n",
    "\n",
    "There is an reduction from complex semi-definite programs to semidefinite programs involving real matrices as \n",
    "a complex matrix $ X \\in {C}^{n \\times n}$ defines a real matrix \n",
    "\n",
    "$\\left[\\begin{array}{ccc}{Real}(X)&{-Imaginary}(X)\\\\{Imaginary}(X)&{Real}(X)\\end{array}\\right]$\n",
    "\n",
    "where ${Real}(X) \\in {R}^{n \\times n}$ and ${Imaginary}(X) \\in{R}^{n \\times n}$ are the real and the imaginary parts of $X$.\n",
    "\n",
    "After the tranformation, the properties of being Hermitian and complex positive semi-definite translate into symmetric and real positive semidefinite. Thus we have \n",
    "\n",
    "$\\alpha^T \\left[\\begin{array}{ccc}{Real}(X)&{-Imaginary}(X)\\\\{Imaginary}(X)&{Real}(X)\\end{array}\\right]\\alpha\\geq$ 0 \n",
    "\n",
    "for all \\alpha\n",
    "\n"
   ]
  },
  {
   "cell_type": "code",
   "execution_count": null,
   "metadata": {
    "collapsed": true
   },
   "outputs": [],
   "source": []
  }
 ],
 "metadata": {
  "kernelspec": {
   "display_name": "Julia 0.5.0-dev",
   "language": "julia",
   "name": "julia-0.5"
  },
  "language_info": {
   "file_extension": ".jl",
   "mimetype": "application/julia",
   "name": "julia",
   "version": "0.5.0"
  }
 },
 "nbformat": 4,
 "nbformat_minor": 0
}
