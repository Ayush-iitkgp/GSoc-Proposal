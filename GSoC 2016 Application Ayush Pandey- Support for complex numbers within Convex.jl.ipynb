{
 "cells": [
  {
   "cell_type": "markdown",
   "metadata": {},
   "source": [
    "# GSoC 2016 Application Ayush Pandey: Support for complex Semidefinite Programming within Convex.jl"
   ]
  },
  {
   "cell_type": "markdown",
   "metadata": {},
   "source": [
    "# About Me\n",
    "\n",
    "## Username and Contact Information\n",
    "\n",
    "**Name**            :   Ayush Pandey\n",
    "\n",
    "**University**      :   [Indian Institute of Technology (IIT), Kharagpur](http://iitkgp.ac.in)\n",
    "\n",
    "**email**           :   ayushpandey.iitkg@gmail.com\n",
    "\n",
    "**IRC Handle**      :   KrishnaKanhaiya at freenode.net\n",
    "\n",
    "**github username** :   [Ayush-iitkgp](https://github.com/Ayush-iitkgp)\n",
    "\n",
    "\n",
    "## Personal Background\n",
    "\n",
    "Hello, I am Ayush Pandey, a 4th year undergraduate student pursuing an Integrated Master of Science(MS) degree in Mathematics and Computing Sciences with micro-specialization in Optimization Theory and Applications\n",
    "at IIT Kharagpur, India.  I'm proficient in C, C++, Java and Python. I would rate my proficiency level as moderate in Julia.\n",
    "\n",
    "## Previous Experience\n",
    "\n",
    "My first encounter with the field of optimization and operation research was during my 3rd year in the college when I took a course in Operation Research. As a part of the course, we were asked to code the Linear Programming methods ([source code](https://github.com/Ayush-iitkgp/Linear-Programming)). I enjoyed the course a lot and since then have been reading optimzation. I was also chosen to be a part of the IIT Kharagpur's contingent in [4th InterIIT TechMeet](http://interiittech.com/) where IIT Kharagpur won gold medal in Portfolio Optimization Event in which we were required to present the solution of the Cardinality Contrained Efficient Frontier which we solved using 3 heuristic methods namely Genetic Algorithm, Tabu Search and Simulated Annealing ([source code](https://github.com/Ayush-iitkgp/InterIIT-TechMeet)).\n",
    "\n",
    "## Relevant Courses \n",
    "* Operation Research (Theory and Lab)\n",
    "* Non-Linear Programming (ongoing)\n",
    "* Convex Optimization (ongoing)\n",
    "* Linear Algebra, Probability& Statitics, Group Theory\n",
    "\n",
    "## Contribution to Open-Source Projects\n",
    "* (**Merged**) `Added solution Unconstrained Markowitz Efficient Frontier example.`[#128](https://github.com/JuliaOpt/Convex.jl/pull/128)\n",
    "\n",
    "\n",
    "* (**Open**) `Added sdp examples.`[#129](https://github.com/JuliaOpt/Convex.jl/pull/129)\n",
    "\n",
    "\n",
    "* (**merged**) `Corrected Pass to solver: stuff matrices objective function.`[#9](https://github.com/JuliaCon/presentations/pull/9)\n",
    "\n",
    "## Experience with Julia\n",
    "I have been using Julia for last one and half month. In terms of functionality, I like Julia because of its **multiple dispatch** feature as it lets me override operator with a lot of ease than other programming languages.\n",
    "\n",
    "But the most anstonishing feature of Julia is that its empowering. In other high-level languages, the users can not be developers becuase developing new packages in those language require the users to know the intricacies of low-level language whereas in Julia, users can develop packages for their needs in Julia itself without compromising with the speed.  "
   ]
  },
  {
   "cell_type": "markdown",
   "metadata": {},
   "source": [
    "# The Project\n",
    "\n",
    "## The Problem and Motivations\n",
    "The aim of the project is to add the support for solving complex semidefinite programs (SDP) in Convex.jl (a Julia package for Disciplined Convex Programming).\n",
    "\n",
    "Many problems in applied sciences are posed as optimization problems over the complex field such as Phase retrieval from sparse signals, designing an FIR filter given a desired frequency response etc.\n",
    "\n",
    "The present approach is to manually convert the complex-domain problems to real-domain problems ([example](http://nbviewer.jupyter.org/github/cvxgrp/cvxpy/blob/master/examples/notebooks/WWW/fir_chebychev_design.ipynb)) and pass to solvers. This process can be time consuming and non-intuitive sometimes. The correct approach to such problem is to make our existing packages deal with complex-domain problems. Thus, during this summer I aim to implement the above functionality in Convex.jl.\n",
    "\n",
    "\n",
    "\n",
    "\n",
    "\n",
    "\n",
    "\n"
   ]
  },
  {
   "cell_type": "markdown",
   "metadata": {},
   "source": [
    "# The Plan\n",
    "I propose to implement required functionality in Convex.jl so that it could accept and solve the complex-domain problems(mainly SDP) without having the users to explicitly convert the complex SDPs to real SDPs.\n",
    "\n",
    "## Mathematical Formulation\n",
    "\n",
    "### Definitions\n",
    "\n",
    "** Hermitian Matrix -** A matrix $X \\in \\mathbf{C}^{n \\times n}$ is hermitian if $X = X^*$ where $X^*$ is the conjugate transpose of the $X$.\n",
    "\n",
    "\n",
    "**Complex Positive Semidefinite Matrix - ** A matrix $X \\in \\mathbf{C}^{n \\times n}$ is positive semidefinite, we write as \n",
    "$X \\succeq 0$ if for all column vectors $\\alpha \\in \\mathbf{C}^n$, we have \n",
    "\n",
    "$\\alpha^T X \\alpha \\geq$ 0\n",
    "\n",
    "** Notation -** The innner product of two complex matrixces (let X,Y) is represented as < X,Y >.\n",
    "\n",
    "**Note -** The inner product of two hermitian matrices < A,B > = Tr(B$^*$A) = Tr(AB) and is always real.\n",
    "\n",
    "## Complex Semidifinite Program\n",
    "In a complex semidefinite programming, we maximize or minimize for an objective matrix $C$ which is Hermitian matrix subject to linear constraints on $X$ and the constraint that $X$ is cpmplex postive semidefinite.\n",
    "\n",
    "The canonical form of the Complex Semidefinite Programming is:\n",
    "\n",
    ">>> ** minimize**     \n",
    "\n",
    ">>>> < $C,X$ >\n",
    "\n",
    ">>> **subject to **\n",
    "\n",
    ">>>> $X$ is Hermitian matrix\n",
    "\n",
    ">>>> $X$ $\\succeq 0$\n",
    "\n",
    ">>>> < $A_i,X$ >  &nbsp; $\\leq b_i$,     &nbsp; &nbsp; &nbsp; &nbsp;i = 1,2,.... m\n",
    "\n",
    "\n",
    "\n",
    "where $A_1, A_2,....,A_m \\in \\mathbf{C}^{n \\times n}$ and $C \\in \\mathbf{C}^{n \\times n}$ are known Hemitian matrices, $b_1,....b_m \\in \\mathbf{R}$ are known numbers and $X \\in \\mathbf {C}^{n \\times n}$ is the variable Hermitian matrix."
   ]
  },
  {
   "cell_type": "markdown",
   "metadata": {},
   "source": [
    "# Execution\n",
    "\n",
    "The problem of complex optimization can be tackled using the bijective transformation $\\tau $ from the ${C}^{n \\times n}$ space to the ${R}^{2n \\times 2n}$ space.\n",
    "\n",
    "There is an reduction from complex semi-definite programs to semidefinite programs involving real matrices as \n",
    "a complex matrix $ X \\in {C}^{n \\times n}$ defines a real matrix \n",
    "\n",
    "&nbsp;&nbsp;&nbsp;&nbsp;&nbsp;&nbsp;&nbsp;&nbsp;&nbsp;$\\tau(X) = \\left[\\begin{array}{ccc}{Real}(X)&{-Imaginary}(X)\\\\{Imaginary}(X)&{Real}(X)\\end{array}\\right]$\n",
    "\n",
    "where ${Real}(X) \\in {R}^{n \\times n}$ and ${Imaginary}(X) \\in{R}^{n \\times n}$ are the real and the imaginary parts of $X$.\n",
    "\n",
    "\n",
    "**Note -** For two hermitian matrices $A,B$\n",
    "\n",
    "< $\\tau(B), \\tau(B) > = Tr( \\left[\\begin{array}{ccc}{Real}(B)&{-Imaginary}(B)\\\\{Imaginary}(B)&{Real}(B)\\end{array}\\right]$$\\left[\\begin{array}{ccc}{Real}(A)&{-Imaginary}(A)\\\\{Imaginary}(A)&{Real}(A)\\end{array}\\right]) = 2 < A,B$ >\n",
    "\n",
    "\n",
    "After the tranformation $\\tau$, the properties of being Hermitian and complex positive semi-definite translate into symmetric and real positive semidefinite. \n",
    "\n",
    "**Thus we have the corresponding SDP:**\n",
    "\n",
    ">>> **minimize**\n",
    "\n",
    ">>>> < $\\tau(C),Y$ >\n",
    "\n",
    ">>> **subject to **\n",
    "\n",
    ">>>> $Y$ is symmetric matrix of order $2n$\n",
    "\n",
    ">>>> $Y \\succeq 0$\n",
    "\n",
    ">>>> $< \\tau(A_i), Y >$ &nbsp; $\\leq b_i$ &nbsp; &nbsp; &nbsp; &nbsp;i = 1,2,.... m\n",
    "\n",
    ">>>> $< \\left[\\begin{array}{ccc}E_{ij}&0\\\\0&-E{ij}\\end{array}\\right],Y >= 0$; &nbsp; &nbsp; &nbsp; &nbsp;i,j = 1,2,.... n, &nbsp; &nbsp; i < j\n",
    "\n",
    "\n",
    ">>>> $< \\left[\\begin{array}{ccc}0&E_{ij}\\\\E_{ij}&\\end{array}\\right],Y >= 0$; &nbsp; &nbsp; &nbsp; &nbsp;i,j = 1,2,.... n, &nbsp; &nbsp; i < j\n",
    "\n",
    "where $e_{i}$ is the unit column vector with ith element as 1 and $E_{ij} = e_{i}e_{j}^T + e_{j}e_{i}^T$ (that is matrix E has a 1 in position ($i,j$) and ($j,$i) and zeroes elsewhere)   \n",
    "\n",
    "\n",
    "**Note- ** $\\tau(Y) = X$, thus if $Y$ is feasible solution for the real SDP, then $\\tau^{-1}(Y)= X$ is the feasible solution for the complex SDP and the **value objective function of complex SDP is half that of real SDP**.\n",
    "\n",
    "**Hence solving the complex SDP is equivalent to solving the corresponsing real SDP and transforming the value to complex domain**.\n",
    "\n",
    "I propose a 6 step procedure to implement complex SDPs within Convex.jl\n",
    "1. Support complex variable and complex SDP in Convex.jl \n",
    "2. Provide the users of the package with the option to express complex SDP in user-friendly language\n",
    "3. Implement the infrastructure to convert the complex SDP to real SDP internally\n",
    "4. Solve the real SDP using already existing backend solvers using MathProgBase interface\n",
    "5. Convert the solution of the real SDP into corresponding complex SDP\n",
    "6. Output the complex domain solution to the user\n"
   ]
  },
  {
   "cell_type": "markdown",
   "metadata": {},
   "source": [
    "## 1. Support complex variable and complex SDP in Convex.jl \n",
    "On the lines of the existing variable system in Convex.jl, I would implement 3 new variables for supporting complex scalar, vector and positive semidefinite complex matrix. This would require me to append new variable type to variable.jl which would be a subtype of AstractExpr."
   ]
  },
  {
   "cell_type": "code",
   "execution_count": null,
   "metadata": {
    "collapsed": true
   },
   "outputs": [],
   "source": [
    "# Add a new complex variable\n",
    "\n",
    "z = ComplexVariable()\n",
    "\n",
    "ComplexVariable of\n",
    ":head: complex\n",
    ":size: (1, 1)\n",
    ":sign: NotDefined\n",
    ":vexity: Convex.AffineVexity()\n",
    "\n",
    "c = ComplexVariable(n)        # n is the number of elements in complex vector\n",
    "C = ComplexSemidefinite(n)    # n is the order the complex positive semi-definite matrix"
   ]
  },
  {
   "cell_type": "markdown",
   "metadata": {},
   "source": [
    "## 2. Provide the users of the package with the option to express complex SDP in user-friendly language\n",
    "\n",
    "Since the objective function in complex SDP involves **inner product** operation, I would implement an innerproduct operator whose arguments would be two Hermitian matrices. I would also need to expand the present API for expressing real SDPs to complex SDPs such that methods it becomes easy for users to express SDPs in Convex.jl\n",
    "\n",
    "\n",
    "\n"
   ]
  },
  {
   "cell_type": "code",
   "execution_count": null,
   "metadata": {
    "collapsed": true
   },
   "outputs": [],
   "source": [
    "C = [1 -im;im 1] # Initialized a Hermitian matrix\n",
    "n = 2\n",
    "Z = ComplexSemiDefinite(n)    #Created a complex positive semidefinite matrix \n",
    "objective = inner_product(Z,C)\n",
    "\n",
    "A = [2 -im;im 1]\n",
    "b = 5\n",
    "c1 = inner_product(Z,A) <= b\n",
    "c2 = (Z in :ComplexSDP)\n",
    "\n",
    "p = minimize(objective,c1,c2)"
   ]
  },
  {
   "cell_type": "markdown",
   "metadata": {},
   "source": [
    "## 3. Implement the infrastructure to convert the complex SDP to real SDP internally\n",
    "The first step in achieving this step would be to make our Convex.jl package intelligent to distininguish between real SDPs and complex SDPs. This step could be achieved by adding new a new field **\"domain\"** to the user defined type **\"Problem\"**. When the domain field has value **\"real\"**, our solver would use the existing system which is already present in Convex.jl and do the consequent computation but when the value is **\"complex\"**, I would write an additional function which would convert the complex SDP to the real SDP using the transformation $\\tau$ described above.  "
   ]
  },
  {
   "cell_type": "code",
   "execution_count": null,
   "metadata": {
    "collapsed": true
   },
   "outputs": [],
   "source": [
    "# Redefining the problem type to accept the domain(real/complex) of the problem \n",
    "type Problem\n",
    "  domain:: Domain\n",
    "  head::Symbol\n",
    "  objective::AbstractExpr\n",
    "  constraints::Array{Constraint}\n",
    "  status::Symbol\n",
    "  optval::Float64OrNothing\n",
    "  model::MathProgBase.AbstractConicModel\n",
    "  solution::Solution"
   ]
  },
  {
   "cell_type": "markdown",
   "metadata": {},
   "source": [
    "## 4. Solve the real SDP using already existing backend solvers using MathProgBase interface"
   ]
  },
  {
   "cell_type": "markdown",
   "metadata": {},
   "source": [
    "## 5. Convert the solution of the real SDP into corresponding complex SDP"
   ]
  },
  {
   "cell_type": "markdown",
   "metadata": {},
   "source": [
    "## 6. Output the complex domain solution to the user"
   ]
  },
  {
   "cell_type": "markdown",
   "metadata": {},
   "source": [
    "# Timeline"
   ]
  },
  {
   "cell_type": "markdown",
   "metadata": {},
   "source": [
    "# References\n",
    "1. Approximation algorithms for MAX-3 CUT and other problems via complex semidefinite programming.\n",
    "2. Invariant Semidefinite Programs"
   ]
  }
 ],
 "metadata": {
  "kernelspec": {
   "display_name": "Julia 0.5.0-dev",
   "language": "julia",
   "name": "julia-0.5"
  },
  "language_info": {
   "file_extension": ".jl",
   "mimetype": "application/julia",
   "name": "julia",
   "version": "0.5.0"
  }
 },
 "nbformat": 4,
 "nbformat_minor": 0
}
