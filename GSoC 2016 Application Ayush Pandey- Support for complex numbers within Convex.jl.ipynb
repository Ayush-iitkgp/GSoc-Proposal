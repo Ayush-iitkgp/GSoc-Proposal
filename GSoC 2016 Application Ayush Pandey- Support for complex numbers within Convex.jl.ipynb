{
 "cells": [
  {
   "cell_type": "markdown",
   "metadata": {},
   "source": [
    "# GSoC 2016 Application Ayush Pandey: Support for complex Semidefinite Programming within Convex.jl"
   ]
  },
  {
   "cell_type": "markdown",
   "metadata": {},
   "source": [
    "# About Me\n",
    "\n",
    "## Username and Contact Information\n",
    "\n",
    "**Name**            :   Ayush Pandey\n",
    "\n",
    "**University**      :   [Indian Institute of Technology (IIT), Kharagpur](http://iitkgp.ac.in)\n",
    "\n",
    "**Email**           :   ayush.pandey@iitkgp.ac.in\n",
    "\n",
    "**IRC Handle**      :   KrishnaKanhaiya at freenode.net\n",
    "\n",
    "**Github Username** :   [Ayush-iitkgp](https://github.com/Ayush-iitkgp)\n",
    "\n",
    "\n",
    "## Personal Background\n",
    "\n",
    "Hello, I am Ayush Pandey, a 4th year undergraduate student pursuing an Integrated Master of Science(MS) degree in Mathematics and Computing Sciences with micro-specialization in Optimization Theory and Applications\n",
    "at IIT Kharagpur, India. I am proficient in C, C++, Java and Python. I am moderately proficient in Julia.\n",
    "\n",
    "## Previous Experience\n",
    "\n",
    "My first encounter with the field of optimization and operation research was during my 3rd year in the college when I took a course in Operation Research. As a part of the course, we were asked to code the Linear Programming methods ([source code](https://github.com/Ayush-iitkgp/Linear-Programming)). I enjoyed the course a lot and since then have been reading optimzation. I was also chosen to be a part of the IIT Kharagpur's contingent in [4th InterIIT TechMeet](http://interiittech.com/) where IIT Kharagpur won gold medal in Portfolio Optimization event where the participants had to present the solution for the Cardinality Constrained Efficient Frontier which we solved using 3 heuristic methods namely Genetic Algorithm, Tabu Search and Simulated Annealing ([source code](https://github.com/Ayush-iitkgp/InterIIT-TechMeet)).\n",
    "\n",
    "## Relevant Courses \n",
    "* Operation Research (Theory and Lab)\n",
    "* Non-Linear Programming (ongoing)\n",
    "* Convex Optimization (ongoing)\n",
    "* Linear Algebra\n",
    "\n",
    "\n",
    "## Answers of listed questions\n",
    "\n",
    "`1. What do you want to have completed by the end of the program?`\n",
    "\n",
    "By the end of the program, I want to add the support for complex-doamin optimization problelm in Convex.jl which presently only supports real-domain optimization problems.\n",
    "\n",
    "`2. Who’s interested in the work, and how will it benefit them?`\n",
    "\n",
    "Many problems in applied sciences are posed as optimization problems over the complex field such as Phase retrieval from sparse signals, designing an FIR filter given a desired frequency response. The present approach is to manually convert the complex-domain problems to real-domain problems ([example](http://nbviewer.jupyter.org/github/cvxgrp/cvxpy/blob/master/examples/notebooks/WWW/fir_chebychev_design.ipynb)) and pass to solvers. The correct approach to such problem is to make existing packages like Convex.jl deal with complex-domain problems directly without converting them to real-domain problem.\n",
    "\n",
    "`3. What are the potential hurdles you might encounter, and how can you resolve them?`\n",
    "\n",
    "I already satisfy the requirements for the project.\n",
    "\n",
    "`4. How will you prioritise different aspects of the project like features, API usability, documentation and robustness?`\n",
    "\n",
    "Please refer to the \"Timeline\" section where I have described in details about my plans to tackle different aspects of the project.\n",
    "\n",
    "`5. Does your project have any milestones that you can target throughout the period?`\n",
    "\n",
    "Yes, the the end of week 8, the support fot the complex-domain problems would be ready for testing for the Julia community.\n",
    "\n",
    "`6. Are there any stretch goals you can make if the main project goes smoothly?`\n",
    "Yes, I do plan to publish a research paper under the guidance of my mentors by the end of the GSoc period.\n",
    "\n",
    "`7. What other time commitments, such as summer courses, other jobs, planned vacations, etc., will you have over the summer?`\n",
    "\n",
    "I expect to work full time on the project that is 40 or more hours a week. I have no other commitments in the summer as of now.\n",
    "\n",
    "\n",
    "## Contribution to Open-Source Projects\n",
    "* (**Merged**) `Added solution Unconstrained Markowitz Efficient Frontier example.`[#128](https://github.com/JuliaOpt/Convex.jl/pull/128)\n",
    "\n",
    "\n",
    "* (**Open**) `Added sdp examples.`[#129](https://github.com/JuliaOpt/Convex.jl/pull/129)\n",
    "\n",
    "\n",
    "* (**Merged**) `Corrected Pass to solver: stuff matrices objective function.`[#9](https://github.com/JuliaCon/presentations/pull/9)\n",
    "\n",
    "## Experience with Julia\n",
    "I have been using Julia for last one and half month. In terms of functionality, I like Julia because of its **multiple dispatch** feature as it lets me overload operators with a lot of ease than other programming languages.\n",
    "\n",
    "But the most anstonishing feature of Julia is that it is empowering. In other high-level languages, the users can not be developers becuase developing new packages in those language require the users to know the intricacies of low-level language whereas in Julia, users can develop packages for their needs in Julia itself without compromising with the speed. "
   ]
  },
  {
   "cell_type": "markdown",
   "metadata": {},
   "source": [
    "# The Project\n",
    "\n",
    "## The Problem and Motivations\n",
    "The aim of the project is to add the support for solving complex domain optimization problems in Convex.jl (a Julia package for Disciplined Convex Programming).\n",
    "\n",
    "Many problems in applied sciences are posed as optimization problems over the complex field such as Phase retrieval from sparse signals, designing an FIR filter given a desired frequency response. The present approach is to manually convert the complex-domain problems to real-domain problems ([example](http://nbviewer.jupyter.org/github/cvxgrp/cvxpy/blob/master/examples/notebooks/WWW/fir_chebychev_design.ipynb)) and pass to solvers. This process can be time consuming and non-intuitive sometimes. The correct approach to such problem is to make existing packages deal with complex-domain problems. Thus, during this summer, I aim to implement the support for complex-domain optimization problems in Convex.jl.\n",
    "\n",
    "Also, the transformation used by Convex.jl to solve the semi-definite programming problem introduces many extra variables and constraints than are necessary which in turn makes Convex.jl slower. One approach to overcome this problem is writing a presolve routine similar to Linear Programming problems to remove the redundant and unnecessary variables and constraints before passing to the solvers thus making the existing package faster. The second part of the project will be dedicated to writing such presolve routines."
   ]
  },
  {
   "cell_type": "markdown",
   "metadata": {},
   "source": [
    "# The Plan\n",
    "I propose to implement required functionality in Convex.jl so that it could accept and solve the complex-domain optimization problems without having the users to explicitly convert the complex problems to real-domain optimization problems. I plan to implement a 6 step procedure to support complex-domain optimization problems within Convex.jl:\n",
    "1. Add support for complex variable and complex SDPs in Convex.jl \n",
    "2. Provide the users of the package with the option to express complex SDP in user-friendly language\n",
    "3. Implement the infrastructure to convert the complex SDP to real SDP internally\n",
    "4. Solve the real SDP using already existing backend solvers using MathProgBase interface\n",
    "5. Convert the solution of the real SDP into corresponding complex SDP\n",
    "6. Output the complex domain solution to the user\n",
    "\n",
    "In the later part of the project, I also plan to implement a presolve routine so as to decrease the number of redundant and unnecessary constraints formed during solution of the semidefinite programming problem which in turn would mak the existing package faster. I also aim to publish the work done during this period under the guidance of my mentors.\n",
    "\n",
    "## Mathematical Formulation\n",
    "First of all, we need to understand the mathematical formulation of complex-domain optimization problems before we get into the implementation details.\n",
    "\n",
    "### Definitions\n",
    "\n",
    "** Hermitian Matrix -** A matrix $X \\in \\mathbf{C}^{n \\times n}$ is hermitian if $X = X^*$ where $X^*$ is the conjugate transpose of the $X$.\n",
    "\n",
    "\n",
    "**Complex Positive Semidefinite Matrix - ** A matrix $X \\in \\mathbf{C}^{n \\times n}$ is positive semidefinite, we write as \n",
    "$X \\succeq 0$ if for all column vectors $\\alpha \\in \\mathbf{C}^n$, we have \n",
    "\n",
    "$\\alpha^T X \\alpha \\geq$ 0\n",
    "\n",
    "** Notation -** The inner product of two complex matrixces (let X,Y) is represented as < X,Y >.\n",
    "\n",
    "**Note -** The inner product of two hermitian matrices < $A,B$ > = $Tr(B^*A$) = $Tr(AB$) and is always real.\n",
    "\n",
    "\n",
    "## Complex Semidefinite Program\n",
    "In a complex semidefinite programming, we maximize or minimize for an objective matrix $C$ which is Hermitian matrix subject to linear constraints on $X$ and the constraint that $X$ is complex postive semidefinite.\n",
    "\n",
    "The canonical form of the Complex Semidefinite Programming is:\n",
    "\n",
    ">>> ** minimize**     \n",
    "\n",
    ">>>> < $C,X$ >\n",
    "\n",
    ">>> **subject to **\n",
    "\n",
    ">>>> $X$ is Hermitian matrix\n",
    "\n",
    ">>>> $X$ $\\succeq 0$\n",
    "\n",
    ">>>> < $A_i,X$ >  &nbsp; $\\leq b_i$,     &nbsp; &nbsp; &nbsp; &nbsp;i = 1,2,.... m\n",
    "\n",
    "\n",
    "\n",
    "where $A_1, A_2,....,A_m \\in \\mathbf{C}^{n \\times n}$ and $C \\in \\mathbf{C}^{n \\times n}$ are known Hemitian matrices, $b_1,....b_m \\in \\mathbf{R}$ are known numbers and $X \\in \\mathbf {C}^{n \\times n}$ is the variable Hermitian matrix."
   ]
  },
  {
   "cell_type": "markdown",
   "metadata": {},
   "source": [
    "# Execution\n",
    "\n",
    "The problem of complex optimization can be tackled using the bijective transformation $\\tau $ from the ${C}^{n \\times n}$ space to the ${R}^{2n \\times 2n}$ space.\n",
    "\n",
    "There is an reduction from complex semi-definite programs to semidefinite programs involving real matrices as \n",
    "a complex matrix $ X \\in {C}^{n \\times n}$ defines a real matrix \n",
    "\n",
    "&nbsp;&nbsp;&nbsp;&nbsp;&nbsp;&nbsp;&nbsp;&nbsp;&nbsp;$\\tau(X) = \\left[\\begin{array}{ccc}{Real}(X)&{-Imaginary}(X)\\\\{Imaginary}(X)&{Real}(X)\\end{array}\\right]$\n",
    "\n",
    "where ${Real}(X) \\in {R}^{n \\times n}$ and ${Imaginary}(X) \\in{R}^{n \\times n}$ are the real and the imaginary parts of $X$.\n",
    "\n",
    "**Claim -** If complex matrix $ X \\in {C}^{n \\times n}$ is Hermitian then its tranformation $\\tau(X) \\in {R}^{2n \\times n}$ is positive semidefinite.\n",
    "\n",
    "\n",
    "**Note -** For two hermitian matrices $A,B$\n",
    "\n",
    "< $\\tau(B), \\tau(B) > = Tr( \\left[\\begin{array}{ccc}{Real}(B)&{-Imaginary}(B)\\\\{Imaginary}(B)&{Real}(B)\\end{array}\\right]$$\\left[\\begin{array}{ccc}{Real}(A)&{-Imaginary}(A)\\\\{Imaginary}(A)&{Real}(A)\\end{array}\\right]) = 2 < A,B$ >\n",
    "\n",
    "\n",
    "After the tranformation $\\tau$, the properties of being Hermitian and complex positive semi-definite translate into symmetric and real positive semidefinite. \n",
    "\n",
    "**Thus we have the corresponding SDP:**\n",
    "\n",
    ">>> **minimize**\n",
    "\n",
    ">>>> < $\\tau(C),Y$ >\n",
    "\n",
    ">>> **subject to **\n",
    "\n",
    ">>>> $Y$ is symmetric matrix of order $2n$\n",
    "\n",
    ">>>> $Y \\succeq 0$\n",
    "\n",
    ">>>> $< \\tau(A_i), Y >$ &nbsp; $\\leq 2b_i$ &nbsp; &nbsp; &nbsp; &nbsp;i = 1,2,.... m\n",
    "\n",
    ">>>> $Y = \\left[\\begin{array}{ccc}A&-B\\\\B&A\\end{array}\\right]$\n",
    "\n",
    "where $A$ is a symmetric matrix of order n and B is the skew-symmetric matrix of same order.   \n",
    "\n",
    "\n",
    "**Note- ** $\\tau(Y) = X$, thus if $Y$ is feasible solution for the real SDP, then $\\tau^{-1}(Y)= X$ is the feasible solution for the complex SDP and the **value objective function of complex SDP is half that of real SDP**.\n",
    "\n",
    "**Hence solving the complex SDP is equivalent to solving the corresponsing real SDP and transforming the value to complex domain**.\n"
   ]
  },
  {
   "cell_type": "markdown",
   "metadata": {},
   "source": [
    "## 1. Support complex variable and complex SDP in Convex.jl \n",
    "On the lines of the existing variable system in Convex.jl, I would implement 3 new variables for supporting complex scalar, vector and positive semidefinite complex matrix. This would require me to append new variable type to variable.jl which would be a subtype of AstractExpr."
   ]
  },
  {
   "cell_type": "code",
   "execution_count": null,
   "metadata": {
    "collapsed": true
   },
   "outputs": [],
   "source": [
    "# Add a new complex variable\n",
    "\n",
    "z = ComplexVariable()\n",
    "\n",
    "ComplexVariable of\n",
    ":head: complex\n",
    ":size: (1, 1)\n",
    ":sign: NotDefined\n",
    ":vexity: Convex.AffineVexity()\n",
    "\n",
    "c = ComplexVariable(n)        # n is the number of elements in complex vector\n",
    "C = ComplexSemidefinite(n)    # n is the order the complex positive semi-definite matrix"
   ]
  },
  {
   "cell_type": "markdown",
   "metadata": {},
   "source": [
    "## 2. Provide the users of the package with the option to express complex SDP in user-friendly language\n",
    "\n",
    "Since the objective function in complex SDP involves **inner product** operation, I would overload the multiply($*$) operator so that it accepts a complex semidefinite matrix variable and an hermitian matrix. I would also need to extend the present API for expressing real SDPs to complex SDPs such that methods it becomes easy for users to express SDPs in Convex.jl."
   ]
  },
  {
   "cell_type": "code",
   "execution_count": null,
   "metadata": {
    "collapsed": true
   },
   "outputs": [],
   "source": [
    "C = [1 -im;im 1] # Initialized a Hermitian matrix\n",
    "n = 2\n",
    "Z = ComplexSemiDefinite(n)    #Created a complex positive semidefinite matrix \n",
    "objective = Z*C\n",
    "\n",
    "A = [2 -im;im 1]\n",
    "b = 5\n",
    "c1 = Z*A <= b\n",
    "c2 = (Z in :ComplexSDP)\n",
    "\n",
    "p = minimize(objective,c1,c2)"
   ]
  },
  {
   "cell_type": "markdown",
   "metadata": {},
   "source": [
    "## 3. Implement the infrastructure to convert the complex SDP to real SDP internally\n",
    "In order to achieve this step, it would be required to make our Convex.jl package intelligent to distininguish between real SDPs and complex SDPs. The current implementation exposes an API **\"minimize/maximize\"** to the user and creates an instance of an user-defined type **Problem**. I plan to make changes in the minimize/maximize API making it intelligent to distinguish between real and complex SDPs. So, when the SDP is real, the package would use the existing the implementation and create an instance of \"Problem\" as usual but when the SDP is complex, first the package would convert the SDP into real SDP using the transformation $\\tau$ described in the \"Execution\" section and then create an instance of \"Problem\". The end result of this step would be an equivalent real SDP of the given complex SDP."
   ]
  },
  {
   "cell_type": "code",
   "execution_count": null,
   "metadata": {
    "collapsed": true
   },
   "outputs": [],
   "source": [
    "# Redefining minimize/maximize API to distinguish between Real and Complex SDPs\n",
    "\n",
    "function (objective::AbstractExpr, constraints::Constraint...)\n",
    "    if objective.children[2].head == :complex # In the if condition, we use the unique representation of the complex SDP\n",
    "        convert_to_real(:minimize, objective, collect(constraints))\n",
    "    else\n",
    "        Problem(:minimize, objective, collect(constraints))\n",
    "    end\n",
    "end\n",
    "\n",
    "#defining a new function which would take an complex SDP and convert to real SDP using the transformation tau\n",
    "function convert_to_real(head::Symbol, objective::AbstractExpr, constraints::Array=Constraint[])\n",
    "    # These steps would convert the problem to real SDP\n",
    "    # After the conversion to real SDP, we would create an instrance of type Problem\n",
    "    Problem(:minimize, objective, collect(constraints))\n",
    "end"
   ]
  },
  {
   "cell_type": "markdown",
   "metadata": {},
   "source": [
    "## 4. Solve the real SDP using already existing backend solvers using MathProgBase interface\n",
    "Now, when we have an equivalent real SDP of the problem, I plan to use the existing implementation in solution.jl which uses methods from MathProgBase package to convert the problem to conic form(since the converted SDP is already in the conic form, we may not need the conversion to conic form), load the problem into solver and optimize it. The **\"solve!\"** would be used to solve the SDP and a new instance of user-defined type **\"Solution\"** is created which has value of the primal and dual variables, status(Optimal, Unbounded), optimum value of the objective function stored in it in different fields. Now, when we have the solution of the real SDP, the next step is to transform the solution of the real SDP to its corresponding complex SDP. Also, the default setting in Convex.jl prints the output from solver(which we disable by passing in verbose=0), I would also need to change the setting so that the output from the solver is not displayed by default as we would not want the solution of the real SDP to be outputted to the user by deault."
   ]
  },
  {
   "cell_type": "code",
   "execution_count": null,
   "metadata": {
    "collapsed": true
   },
   "outputs": [],
   "source": [
    "# Given below is the function in the existing source code which I plan to use to solve the transfromed real SDP. \n",
    "function solve!(problem::Problem;\n",
    "                warmstart=false, check_vexity=true)\n",
    "\n",
    "#Checking the vexity of the Problem\n",
    "  if check_vexity\n",
    "    vex = vexity(problem)\n",
    "  end\n",
    "    \n",
    "# Convert the problem to the conic form \n",
    "# Since we have formulated the complex SDP in such a way that the existing problem is already in conic form. \n",
    "# The step below can be skipped which would lead to less computation time.\n",
    "  c, A, b, cones, var_to_ranges, vartypes, conic_constraints = conic_problem(problem)\n",
    "    \n",
    "# This method call \"loadproblem\" method from MathProgrBase which in turn loads the problem to the existing conic solvers\n",
    "  m = problem.model\n",
    "  load_problem!(m, c, A, b, cones, vartypes)\n",
    "  if warmstart\n",
    "    set_warmstart!(m, problem, length(c), var_to_ranges)\n",
    "  end\n",
    "  \n",
    "# The package uses MathProgbase interface to call the existing methods for optimization\n",
    "  MathProgBase.optimize!(m)\n",
    "\n",
    "# The method below assigns the values to different fields in \"Solution\" type and displays it to the user\n",
    "  populate_solution!(m, problem, var_to_ranges, conic_constraints)\n",
    "  if !(problem.status==:Optimal)\n",
    "    warn(\"Problem status $(problem.status); solution may be inaccurate.\")\n",
    "  end\n",
    "end"
   ]
  },
  {
   "cell_type": "markdown",
   "metadata": {},
   "source": [
    "## 5. Convert the solution of the real SDP into corresponding complex SDP\n",
    "This step is exactly reverse of step 3. In this step, we use the transformation $\\tau^{-1}$ to obtain the solution of the complex SDP from the solution of the real SDP which is obtained in step 4. Lets us assume that the primal value of the variables of the real SDP is stored in temporary variable $Y$ which is a square matrix of order $2n$. As from the tranformation $\\tau^{-1}$, it can be easily verified that first $n$ columns of first $n$ rows contain the real part of the complex matrix $X$ and the next $n$ columns contain nagative the imaginary part of the matrix $X$.Also, the optimum value of the complex SDP is half the optimum value of the complex SDP. Thus, I would need to implement a new function which would take the primal values and the optimum values of the real SDP and convert to the corresponding complex SDP. This would be done by creating a function which would take the user-defined type **\"Solution\"** (this contains the solution for the real SDP) as an argument and convert it to complex-domain solution. I would also be required to make our solver intelligent so that it could distinuguish between real and complex-domain SDPs. This would be done by creating a new field **\"domain\"** in the user-defined type **\"Solution\"** which would take values as either **real or complex**. If the the field **domain** contains value complex then the tranformation $\\tau^{-1}$ would be called else no need."
   ]
  },
  {
   "cell_type": "code",
   "execution_count": null,
   "metadata": {
    "collapsed": true
   },
   "outputs": [],
   "source": [
    "# Redifining the user-defined type Solution\n",
    "type Solution{T<:Number}\n",
    "  domain                               # field domain would either take the value real or complex\n",
    "  primal::Array{T, 1}\n",
    "  dual::Array{T, 1}\n",
    "  status::Symbol\n",
    "  optval::T\n",
    "  has_dual::Bool\n",
    "end\n",
    "\n",
    "#defining a new function which would take the user-defined type \"Solution\", check if the solution is for tranformed\n",
    "# SDP. If yes, it would use inverse tranformation to get the complex-domain solution.\n",
    "function real_to_complex(s::Solution)\n",
    "    if\n",
    "        s.domain ==\"real\"\n",
    "        return\n",
    "    else\n",
    "        # use the inverse tranformation to obtain complex-domain solution. The complex-domain solution\n",
    "        end \n",
    "end\n"
   ]
  },
  {
   "cell_type": "markdown",
   "metadata": {},
   "source": [
    "## 6. Output the complex domain solution to the user\n",
    "Now, when we have the complex-domain solution of the complex SDP. I would be using the existing machinery in Convex.jl to output the optimum value of the objective function and the value of the primal variables.\n",
    "\n",
    "**Note- ** The **\"evaluate\"** method in the existing atoms can handle the complex variables. But some atoms are only defined ovr real domain (for example- max(x,0)) thus, I would need to append the warning messages to such atoms in case the users by mistake call the evaluate method with complex argument."
   ]
  },
  {
   "cell_type": "code",
   "execution_count": null,
   "metadata": {
    "collapsed": true
   },
   "outputs": [],
   "source": [
    "# solve the complex SDP\n",
    "solve!(p)\n",
    "p.optval # Displays the optimum values of the complex SDP\n",
    "\n",
    "# example of the atom which accepts complex variables\n",
    "x = Variable() #or  x = ComplexVariable()\n",
    "e1 = square(x)\n",
    "x.value = 4im\n",
    "evaluate(e1)\n",
    "\n",
    "1x1 Array{Complex{Float64},2}:\n",
    "-16.0+0.0im\n",
    "\n",
    "# example of the atom which does not accept complex variables\n",
    "e2 = max(x,0)\n",
    "evluate(e2)\n",
    "\n",
    "Warning:evaluate method can not be called on the expression with complex values, please provide real-domain values. "
   ]
  },
  {
   "cell_type": "markdown",
   "metadata": {},
   "source": [
    "# Timeline (tentative)"
   ]
  },
  {
   "cell_type": "markdown",
   "metadata": {},
   "source": [
    "### Community Bonding period (22nd April - 22nd May) \n",
    "\n",
    "My summer vacation will start from 30th of April. During this period, I would want to get myself more familiarized with the source code of Convex.jl. I have in particular 2 issue in mind which I would like to send the pull request to namely:\n",
    "\n",
    "* `Issue multiplying expressions with matrices.`[#122](https://github.com/JuliaOpt/Convex.jl/issues/122)\n",
    "\n",
    "I believe solving the above issue would help me strenghten my understanding of source code and make myself comfortable with contributing to the package.\n",
    "\n",
    "* `Missing kron for convex programming variables.`[#57](https://github.com/JuliaOpt/Convex.jl/issues/57)\n",
    "\n",
    "This would be the first step towards supporting complex numbers in Convex.jl, **kron** atom is used in Chebychev design of an FIR filter given a desired frequency response. Thus implemting this feature would make Convex.jl useful in the applications related to filter design"
   ]
  },
  {
   "cell_type": "markdown",
   "metadata": {},
   "source": [
    "### Week 1\n",
    "**Goal:** *Implement support for complex variable and complex SDP in Convex.jl*\n",
    "\n",
    "I plan to implement the 6 step procedure described in the \"Execution\" section on weekly basis. We would only be able to merge the code into the existing package after all the 6 steps have been implemented. I would start by making changes in variable.jl file. The end outcome of this week would be that the users would be able to declare a variable as complex-domain variable."
   ]
  },
  {
   "cell_type": "markdown",
   "metadata": {},
   "source": [
    "### Week 2\n",
    "**Goal:** *Overload $(*)$ operator and extend minimize/maximize API*\n",
    "\n",
    "In this week, I would overload the multiply($*$) operator to support complex multiplication and extend the present API for expressing real SDPs to complex SDPs such that it becomes easy for users to express complex SDPs in Convex.jl."
   ]
  },
  {
   "cell_type": "markdown",
   "metadata": {},
   "source": [
    "### Week 3 and 4\n",
    "**Goal:** *Implement new functions for transformation $\\tau$*\n",
    "\n",
    "These 2 weeks would be required to implement step 3 by making changes in problem.jl file. I would also write new routines to convert complex SDPs to real SPDs."
   ]
  },
  {
   "cell_type": "markdown",
   "metadata": {},
   "source": [
    "### Week 5\n",
    "**Goal:** *Solve the real SDP using already existing backend solvers using MathProgBase interface*"
   ]
  },
  {
   "cell_type": "markdown",
   "metadata": {},
   "source": [
    "### Week 6 and 7\n",
    "**Goal:** *Convert the solution of the real SDP into corresponding complex SDP*"
   ]
  },
  {
   "cell_type": "markdown",
   "metadata": {},
   "source": [
    "### Week 8\n",
    "**Goal:** *Output the complex domain solution to the user*"
   ]
  },
  {
   "cell_type": "markdown",
   "metadata": {},
   "source": [
    "### Week 9 and 10\n",
    "**Goal:** *Documentation, Notebooks, Bug fixes*\n",
    "\n",
    "By this time I will make sure that none of the above implementations has introduced any bug and are complete by documentation as well as testing. I will extend this period to my Future Work as writing example notebooks and\n",
    "preparing for a major release of the package."
   ]
  },
  {
   "cell_type": "markdown",
   "metadata": {},
   "source": [
    "### Week 11 and 12\n",
    "**Goal:** *Writing presolve routine*\n",
    "\n",
    "During these two weeks, I plan to understand the existing SDP solvers like SCS and Mosek in detail and try to figure what could be better ways than the existing ones so that we could make our presolve routine better. I would also be required to read and understand the existing presolve routines for Linear Programming Problems so that I could think on similar lines."
   ]
  },
  {
   "cell_type": "markdown",
   "metadata": {},
   "source": [
    "### End-Term evaluation\n",
    "**Goal:** *Working towards the publication*\n",
    "\n",
    "Buffer period for any lagging work. I also aim to work towards writing a research paper during this period under the guidnce of my mentors.\n"
   ]
  },
  {
   "cell_type": "markdown",
   "metadata": {},
   "source": [
    "# References\n",
    "[1]. Approximation algorithms for MAX-3-CUT and other problems via complex semidefinite programming. http://www.sciencedirect.com/science/article/pii/S0022000003001454\n",
    "\n",
    "[2]. Invariant semidefinite programs. http://arxiv.org/pdf/1007.2905v2.pdf\n",
    "\n",
    "[3]. Convex Optimization in Julia. http://arxiv.org/pdf/1410.4821.pdf\n",
    "\n",
    "[4]. [#103](https://github.com/JuliaOpt/Convex.jl/issues/103) Support for complex variables.\n",
    "\n",
    "[5]. [#191](https://github.com/cvxgrp/cvxpy/issues/191) Add complex variables."
   ]
  }
 ],
 "metadata": {
  "kernelspec": {
   "display_name": "Julia 0.5.0-dev",
   "language": "julia",
   "name": "julia-0.5"
  },
  "language_info": {
   "file_extension": ".jl",
   "mimetype": "application/julia",
   "name": "julia",
   "version": "0.5.0"
  }
 },
 "nbformat": 4,
 "nbformat_minor": 0
}
