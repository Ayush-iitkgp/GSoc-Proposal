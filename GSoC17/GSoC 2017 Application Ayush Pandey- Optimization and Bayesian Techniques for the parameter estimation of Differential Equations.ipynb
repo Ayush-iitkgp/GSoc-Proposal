{
 "cells": [
  {
   "cell_type": "markdown",
   "metadata": {},
   "source": [
    "# About Me\n",
    "\n",
    "## Username and Contact Information\n",
    "\n",
    "**Name**            :   Ayush Pandey\n",
    "\n",
    "**University**      :   [Indian Institute of Technology (IIT), Kharagpur](http://iitkgp.ac.in)\n",
    "\n",
    "**Email**           :   ayushpandey.iitkgp@gmail.com\n",
    "\n",
    "**IRC Handle**      :   KrishnaKanhaiya at freenode.net\n",
    "\n",
    "**Github Username** :   [Ayush-iitkgp](https://github.com/Ayush-iitkgp)\n",
    "\n",
    "\n",
    "## Personal Background\n",
    "\n",
    "Hello, I am Ayush Pandey, a final year graduate student pursuing an Integrated Master of Science(MS) degree in Mathematics and Computing Sciences with specialization in Optimization at IIT Kharagpur, India. I am proficient in C, C++, Python, and Julia.\n",
    "\n",
    "## Previous Relevant Experience\n",
    "\n",
    "I am a former Google Summer of the Code student with the Julia Language where I worked on the project titled **Support for complex numbers within Convex.jl**.As a result of our work, we became the first open-source DCP package to support optimization with complex-variables. I have also worked on different projects related to optimization and machine learning. Please find all my projects [here](https://drive.google.com/drive/folders/0B2oOdWdSJWa1RWRsQWdCZ25LUXc). I have taken courses on differential equations such as Partial Differential Equations, Numerical solution of ODE and PDE and Advanced NUmnerical Techniques(Theory and Lab) where I have written MATLAB/C [code](https://github.com/Ayush-iitkgp/Numerical-Solution-of-ODE-and-PDE) for different numerical techniques used in solving ODEs and PDEs. \n",
    "\n",
    "## Relevant Courses\n",
    "* Partial Differential Equations\n",
    "* Numerical solution of ODE and PDE\n",
    "* Advanced Numerical Techniques\n",
    "* Non-Linear Programming\n",
    "* Convex Optimization\n",
    "* Probability & Statistics, Regression, Generalized Linear Models\n",
    "* Linear Algebra, Programming and Data Structures, Object Oriented System Design\n",
    "\n",
    "\n",
    "## Answers of listed questions\n",
    "\n",
    "`1. What do you want to have completed by the end of the program?`\n",
    "\n",
    "By the end of the program, I want to support different optimization and bayesian techniques used to estimate the parameters of the differential equations given the experimental data. Presently, DiffEqParamEstim only supports Non-Linear Regression technique to estimate the parameters. I aim to implement numerous techniques such as two-stage method, model relaxation technique, regularization, log-likelihood estimation, meta-heuristic techniques for global optimum and bayesian techniques using Stan.jl.\n",
    "\n",
    "`2. Who’s interested in the work, and how will it benefit them?`\n",
    "\n",
    "The problem of parameter estimation has extensive use in the following fields:\n",
    "1. HIV-AIDS viral dynamics\n",
    "2. Systems biology\n",
    "3. Drug dosage estimation\n",
    "\n",
    "`3. What are the potential hurdles you might encounter, and how can you resolve them?`\n",
    "\n",
    "I already satisfy the requirements for the project.\n",
    "\n",
    "`4. How will you prioritise different aspects of the project like features, API usability, documentation and robustness?`\n",
    "\n",
    "Please refer to the \"Timeline\" section where I have described in details about my plans to tackle different aspects of the project.\n",
    "\n",
    "`5. Does your project have any milestones that you can target throughout the period?`\n",
    "\n",
    "Yes, before JuliaCon 2017, I would have implemented the various optimization and regualarization algorithms to estimate the parameters and would be ready for testing for the Julia community.\n",
    "\n",
    "`6. Are there any stretch goals you can make if the main project goes smoothly?`\n",
    "\n",
    "Yes, I would try to implement native julia computational engine for Bayesian estimation using tools like Mamba.jl or Klara.jl\n",
    "\n",
    "`7. What other time commitments, such as summer courses, other jobs, planned vacations, etc., will you have over the summer?`\n",
    "\n",
    "I expect to work full time on the project that is 30 or more hours a week.\n",
    "\n",
    "\n",
    "## Contribution to Open-Source Projects\n",
    "* Please find the list of all Pull Requests to Convex.jl repository [here](https://github.com/JuliaOpt/Convex.jl/pulls?q=is%3Apr+author%3AAyush-iitkgp+is%3Aclosed).\n",
    "\n",
    "\n",
    "* Added two-stage method [#6](https://github.com/JuliaDiffEq/DiffEqParamEstim.jl/pull/6)\n",
    "\n",
    "\n",
    "* [Improved DiffEqDocs](https://github.com/JuliaDiffEq/DiffEqDocs.jl/pulls?q=is%3Apr+author%3AAyush-iitkgp+is%3Aclosed).\n",
    "\n",
    "## Experience with Julia\n",
    "I have been using Julia for last one year. In terms of functionality, I like Julia because of its **multiple dispatch** feature as it lets me overload operators with a lot of ease than other programming languages.\n",
    "\n",
    "But the most astonishing feature of Julia is that it is empowering. In other high-level languages, the users can not be developers because developing new packages in those language require the users to know the intricacies of low-level language whereas in Julia, users can develop packages for their needs in Julia itself without compromising with the speed. "
   ]
  },
  {
   "cell_type": "markdown",
   "metadata": {},
   "source": [
    "# The Project\n",
    "\n",
    "## The Problem and Motivations\n",
    "The aim of the project is to add different optimization and bayesian techniques to estimate the parameterd of the differential equation in DiffEqParamEstim.jl package and do a comprehensive study of the pros and cons of the different algorithms to add it to the documentation.\n",
    "\n",
    "Differential equation models are widely used in many scientific fields that include engineering, physics and biomedical sciences. The so-called “forward problem” that is the problem of solving differential equations for given parameter values in the differential equation models has been extensively studied by mathematicians, physicists, and engineers. \n",
    "\n",
    "However, the **inverse problem**, the problem of parameter estimation based on the measurements of output variables, has not been well explored using modern optimization and statistical methods. Parameter estimation aims to find the unknown parameters of the model which give the best fit to a set of experimental data. In this way, parameters which cannot be measured directly will be determined in order to ensure the best fit of the model with the experimental results. This will be done by globally minimizing an objective function which measures the quality of the fit. This inverse problem usually considers a cost function to be optimized (such as maximum likelihood). This problem has applications in systems biology, HIV-AIDS study, and drug dosage estimation."
   ]
  },
  {
   "cell_type": "markdown",
   "metadata": {},
   "source": [
    "# The Plan\n",
    "I propose to implement different algorithms for estimation of the parameters of the differential equations such as:\n",
    "\n",
    "1. Spline Kernel for two-stage method\n",
    "2. Different distance measures such as (log-)likelihood.\n",
    "3. Regularization techniques such as Tikhonov regularization, LASSO regularization.\n",
    "4. Meta-heuristic algorithms for global optimum such as enhanced scatter search, genetic algorithm.\n",
    "5. Model relaxation algorithms\n",
    "6. Bayesian techniques using Stan.jl\n",
    "7. Writing native julia bayesian computational engine using Mamba.jl and Klara.jl\n",
    "\n",
    "I am also aim to do a detailed study of the methods and write a proper documentation on where to use the algorithms, precuations to take while using them and the pros and cons of the above methods.\n",
    "\n",
    "## Mathematical Formulation\n",
    "First of all, we need to understand the mathematical formulation of the inverse parameter estimation problem before we get into the implementation details.\n",
    "\n",
    "### General Form of Parameter Estimation Problem\n",
    "\n",
    "![title](images/General_Parameter_Estimation_Form.png)\n",
    "\n",
    "where $x \\in  \\mathbf{R}^{n}$ is the observed state vector, $\\theta \\in {R}^{m}$ is the vector of unknown parameters, f(.) is a known linear or non-linear function vector. In general, we may not observe x directly but we can observe a function of x, here g(.) is the observation functions that maps the state variable to vector of observable quantities $y \\in {R}^{n}$, these are the signals thar can be measured in the experiments.\n",
    "\n",
    "\n",
    "### Maximum likelihood and cost function\n",
    "Maximum likelihood and cost function Assuming that the transformed measurements y are contaminated by additive normally distributed uncorrelated random measurement errors – i.e. $y_{ijk}^{~} = y_{ijk}(x(t_{i}), θ) + e_{ijk} where e_{ijk} ∼ N(0, σ2_{ijk})$ is the random error with standard deviation $σ_{ijk}$ and $y_{ijk}$ is the measured value, the estimation of the model parameters is formulated as the maximization of the likelihood of the data:\n",
    "\n",
    "![title](images/Maximum_Likelihood.png)\n",
    "\n"
   ]
  },
  {
   "cell_type": "markdown",
   "metadata": {},
   "source": [
    "# Execution\n",
    "\n",
    "The problem of complex optimization can be tackled using the bijective transformation $\\tau $ from the ${C}^{n \\times n}$ space to the ${R}^{2n \\times 2n}$ space.\n",
    "\n",
    "There is an reduction from complex semidefinite programs to semidefinite programs involving real matrices as \n",
    "a complex matrix $X \\in {C}^{n \\times n}$ defines a real matrix \n",
    "\n",
    "&nbsp;&nbsp;&nbsp;&nbsp;&nbsp;&nbsp;&nbsp;&nbsp;&nbsp;$\\tau(X) = \\left[\\begin{array}{ccc}{Real}(X)&{-Imaginary}(X)\\\\{Imaginary}(X)&{Real}(X)\\end{array}\\right]$\n",
    "\n",
    "where ${Real}(X) \\in {R}^{n \\times n}$ and ${Imaginary}(X) \\in{R}^{n \\times n}$ are the real and the imaginary parts of $X$.\n",
    "\n",
    "**Note 1-** If complex matrix $X \\in {C}^{n \\times n}$ is Hermitian then its transformation $\\tau(X) \\in {R}^{2n \\times n}$ is positive semidefinite.\n",
    "\n",
    "\n",
    "**Note 2-** For two hermitian matrices $X,Y$\n",
    "\n",
    "< $\\tau(X), \\tau(Y) > = Tr( \\left[\\begin{array}{ccc}{Real}(Y)&{-Imaginary}(Y)\\\\{Imaginary}(Y)&{Real}(Y)\\end{array}\\right]$$\\left[\\begin{array}{ccc}{Real}(X)&{-Imaginary}(Y)\\\\{Imaginary}(X)&{Real}(X)\\end{array}\\right]) = 2 < X,Y$ >\n",
    "\n",
    "\n",
    "After the transformation $\\tau$, the properties of being Hermitian and complex positive semidefinite translate into symmetric and real positive semidefinite. \n",
    "\n",
    "**Thus we have the corresponding real SDP:**\n",
    "\n",
    ">>> **minimize**\n",
    "\n",
    ">>>> < $\\tau(C),Y$ >\n",
    "\n",
    ">>> **subject to **\n",
    "\n",
    ">>>> $Y$ is symmetric matrix of order $2n$\n",
    "\n",
    ">>>> $Y \\succeq 0$\n",
    "\n",
    ">>>> $< \\tau(A_i), Y >$ &nbsp; $\\leq 2b_i$ &nbsp; &nbsp; &nbsp; &nbsp;i = 1,2,.... m\n",
    "\n",
    ">>>> $Y = \\left[\\begin{array}{ccc}D&-E\\\\E&D\\end{array}\\right]$\n",
    "\n",
    "where $D$ is a symmetric matrix of order n and $E$ is a skew-symmetric matrix of same order. Here $Y$ is the variable positive semidefinite matrix of order $2n$ and $\\tau(A_i)$ i=1,2.....n are the transformation of the hermitian matrices $A_i$ i=1,2.....n appearing in canonical form of the complex semidefinite programming problem. \n",
    "\n",
    "**Note- ** $\\tau(Y) = X$, thus if $Y$ is feasible solution for the real SDP, then $\\tau^{-1}(Y)= X$ is the feasible solution for the complex SDP and the **value objective function of complex SDP is half that of real SDP**.\n",
    "\n",
    "**Hence solving the complex SDP is equivalent to solving the corresponding real SDP and transforming the value to complex domain**.\n"
   ]
  },
  {
   "cell_type": "markdown",
   "metadata": {},
   "source": [
    "## 1. Support complex variable and complex SDP in Convex.jl \n",
    "On the lines of the existing variable system in Convex.jl, I would implement 3 new variable types for supporting complex scalar, vector and hermitian positive semidefinite matrix. This would require me to append new variable type to variable.jl which would be a subtype of AbstractExpr.\n",
    "\n",
    "This is the first step in supporting complex-domain optmization problem is to implement variablws of type complex. In order to acheive this, I have created a new subtype **NotDefined** of Abstract type **\"Sign\"**.\n",
    "\n",
    "**Note-** *It is important to note that there is difference between NoSign and NotDefined. For e.g.- Any real variable not assigned a sign initially has NoSign but there is no notion of sign for complex expression thus a complex expression has always a NotDefined entry in sign field.*\n",
    "\n",
    "I also introduced a new field called Domain (with two subtypes as Real and Complex) within user-defined types Variable(which will have Domain value always equal to Real). Similary, a new subtype of AbstractExpr was introduced which is called as \"ComplexVariable\" with the following characteristic different from \"Variable\":\n",
    "1. head field would take value \"complex_variable\".\n",
    "2. Sign field would always have value as NotDefined()\n",
    "3. Domain field would always have values as Complex.\n",
    "\n",
    "Also a new method doamin was defined which would display the domain field of the Variable or Complex Variable.\n"
   ]
  },
  {
   "cell_type": "code",
   "execution_count": null,
   "metadata": {
    "collapsed": true
   },
   "outputs": [],
   "source": [
    "type ComplexVariable <: AbstractExpr\n",
    "  head::Symbol\n",
    "  id_hash::UInt64\n",
    "  value::ValueOrNothing     #ValueorNothing should support data of type 5+4im # We would need to redefine this\n",
    "  size::Tuple{Int, Int}\n",
    "  vexity::Vexity\n",
    "  sign::Sign\n",
    "  # New code\n",
    "  # New field called domain\n",
    "  domain::Domain\n",
    "  sets::Array{Symbol,1}\n",
    "\n",
    "\n",
    "  function ComplexVariable(size::Tuple{Int, Int}, sign::Sign=NotDefined(), domain::Domain=Complex(), sets::Symbol...)\n",
    "    this = new(:complex_variable, 0, nothing, size, AffineVexity(), sign, domain, Symbol[sets...])\n",
    "    this.id_hash = object_id(this)\n",
    "    id_to_complex_variables[this.id_hash] = this\n",
    "    return this\n",
    "  end\n",
    "\n",
    "  ComplexVariable(m::Int, n::Int, sign::Sign=NotDefined(), sets::Symbol...) = ComplexVariable((m,n), sign, domain, sets...)\n",
    "  ComplexVariable(sets::Symbol...) = ComplexVariable((1, 1), NotDefined(), domain, sets...)\n",
    "  ComplexVariable(sign::Sign=NotDefined(), sets::Symbol...) = ComplexVariable((1, 1), sign, Complex(), sets...)\n",
    "  ComplexVariable(size::Tuple{Int, Int}, sets::Symbol...) = ComplexVariable(size, NotDefined(), Complex(), sets...)\n",
    "  ComplexVariable(size::Int, sign::Sign=NotDefined(), sets::Symbol...) = ComplexVariable((size, 1), sign, sets...)\n",
    "  ComplexVariable(size::Int, sets::Symbol...) = ComplexVariable((size, 1), sets...)\n",
    "end\n",
    "\n",
    "HermitianSemidefinite(m::Integer) = ComplexVariable((m,m), :HermitianSemidefinite)\n",
    "function HermitianSemidefinite(m::Integer, n::Integer)\n",
    "  if m==n\n",
    "    return ComplexVariable((m,m), :HermitianSemidefinite)\n",
    "  else\n",
    "    error(\"HermitianSemidefinite matrices must be square\")\n",
    "  end\n",
    "end\n",
    "\n",
    "id_to_complex_variables = Dict{UInt64, ComplexVariable}()\n",
    "\n",
    "function vexity(x::Variable)\n",
    "  return x.vexity\n",
    "end\n",
    "\n",
    "function evaluate(x::Variable)\n",
    "  return x.value == nothing ? error(\"Value of the variable is yet to be calculated\") : x.value\n",
    "end\n",
    "\n",
    "function sign(x::Variable)\n",
    "  return x.sign\n",
    "end\n",
    "\n",
    "# Added new method to display domain of the variable\n",
    "function domain(x::Variable)\n",
    "  return x.domain\n",
    "end\n",
    "\n",
    "\n",
    "# Add a new complex variable\n",
    "\n",
    "z = ComplexVariable()\n",
    "\n",
    "ComplexVariable of\n",
    ":head: complex\n",
    ":size: (1, 1)\n",
    ":sign: NotDefined\n",
    ":vexity: Convex.AffineVexity()\n",
    ":domain: Complex\n",
    "\n",
    "c = ComplexVariable(n)        # n is the number of elements in complex vector\n",
    "C = HermitianSemidefinite(n)    # n is the order the hermitian positive semidefinite matrix"
   ]
  },
  {
   "cell_type": "markdown",
   "metadata": {},
   "source": [
    "The above modifications allow us to declare the variables as real or complex but we also needed to redefine the constant.jl file to enable the constants to take complex value. This was done by adding a field called \"domain\" to the fields in Constant user-defined type. "
   ]
  },
  {
   "cell_type": "code",
   "execution_count": null,
   "metadata": {
    "collapsed": true
   },
   "outputs": [],
   "source": [
    "type Constant <: AbstractExpr\n",
    "  head::Symbol\n",
    "  id_hash::UInt64\n",
    "  value::Value\n",
    "  size::Tuple{Int, Int}\n",
    "  vexity::Vexity\n",
    "  sign::Sign\n",
    "  domain::Domain"
   ]
  },
  {
   "cell_type": "markdown",
   "metadata": {},
   "source": [
    "new After we have introduced a new field in variable.jl and a new subtype of Sign, we were required to modify dcp.jl file that handles the basic rules on interactions(negate, addition and multiplication) of mathematical expressions to create new expressions. The present implemetation only handles the sign, the vexity and the monotonicity. I modified it to also handle whether an expression is real or complex.\n",
    "\n",
    "The following new rules were added:\n",
    "1. Negative of NotDefined is NotDefined.\n",
    "2. Negate operation does not change the domain.\n",
    "3. Any sign + NotDefined = NotDefined\n",
    "4. Any domain * Any Sign = NotDefined\n",
    "5. Real * Real = Real\n",
    "6. Any Domain * Complex Domain = Complex Domain\n"
   ]
  },
  {
   "cell_type": "code",
   "execution_count": 1,
   "metadata": {
    "collapsed": true
   },
   "outputs": [],
   "source": [
    "# Sign subtypes\n",
    "abstract Sign\n",
    "type Positive <: Sign                   end\n",
    "type Negative <: Sign                   end\n",
    "type NoSign <: Sign                     end\n",
    "\n",
    "# New code\n",
    "# Also create a new subtype of Sign \"NotDefined to handle the complex case\"\n",
    "type NotDefined <: Sign                 end\n",
    "\n",
    "# New code\n",
    "# Domain Subtypes\n",
    "abstract Domain\n",
    "type Real <: Domain                    end\n",
    "type Complex <: Domain                 end\n",
    "\n",
    "# Adding rule for Domain\n",
    "-(d::Domain) = d\n",
    "\n",
    "# Any sign + NotDefined = NotDefined\n",
    "+(s::Sign, t::NotDefined) = t\n",
    "\n",
    "# Real/Complex + Complex = Complex\n",
    "+(d::Domain, e::Complex) = e\n",
    "+(d::Complex, e::Domain) = d\n",
    "\n",
    "# NotDefined * Any Sign = NotDefined(Though complex and its conjugate is real but we ignore that case)\n",
    "*(t::NotDefined, s::Sign) = t\n",
    "*(s::Sign, t::NotDefined) = t\n",
    "\n",
    "# Real * Real = Real\n",
    "# Complex * Anything = Complex\n",
    "*(d::Real, e::Real) = d\n",
    "*(d::Domain, e::Complex) = e"
   ]
  },
  {
   "cell_type": "markdown",
   "metadata": {},
   "source": [
    "The very important utility function we need is to check whether an expression is real or complex. Fortunately, this method would use the theory that we have developed in dcp. jl to check whether an expression is real or not. "
   ]
  },
  {
   "cell_type": "markdown",
   "metadata": {},
   "source": [
    "## 2. Provide the users of the package with the option to express complex SDP in user-friendly language\n",
    "\n",
    "Since the objective function in complex SDP involves **inner product** operation, I would overload the **dot** operator so that it accepts a complex semidefinite matrix variable and an hermitian matrix. I would also need to extend the present API **maximize/minimize** for expressing real SDP optimization problem to complex SDPs such that methods it becomes easy for users to express SDPs in Convex.jl.\n",
    "\n",
    "We would also need some more utilities such as:"
   ]
  },
  {
   "cell_type": "markdown",
   "metadata": {},
   "source": [
    "* An utility function which would check if an expression is real or complex."
   ]
  },
  {
   "cell_type": "code",
   "execution_count": null,
   "metadata": {
    "collapsed": true
   },
   "outputs": [],
   "source": [
    "function type_of_expression(x::AbstractExpr)\n",
    "    # There are set of rules to check if an expression is DCP compliant or not, similarly we would have set of rules\n",
    "    # which would decide of an expression is real or complex. For e.g - suppose if an expression has a complex \n",
    "    # Variable or a constant then it would be a complex expression.\n",
    "    if x==\"real\"\n",
    "        return true\n",
    "    else\n",
    "        return false\n",
    "end"
   ]
  },
  {
   "cell_type": "markdown",
   "metadata": {},
   "source": [
    "* An atom namely \"conjugate\" which would operate on an AbstractExpr to return its complex conjugate. We also need to note that conjugate and traspose operator would do the same thing on the real expression."
   ]
  },
  {
   "cell_type": "code",
   "execution_count": null,
   "metadata": {
    "collapsed": true
   },
   "outputs": [],
   "source": [
    "type ConjugateAtom <: AbstractExpr\n",
    "  head::Symbol\n",
    "  id_hash::UInt64\n",
    "  children::Tuple{AbstractExpr}\n",
    "  size::Tuple{Int, Int}\n",
    "    \n",
    "    function ConjugateAtom(x::AbstractExpr)\n",
    "        if type_of_expression(x)          #if x is real then the conjugate is equivalent to transpose\n",
    "            children = (x,)\n",
    "    return new(:transpose, hash(children), children, (x.size[2], x.size[1]))\n",
    "    else\n",
    "            #set of steps to find the complex conjugate of x  \n",
    "        end\n",
    "    end   \n",
    "end"
   ]
  },
  {
   "cell_type": "markdown",
   "metadata": {},
   "source": [
    "* The present implementation of Convex.jl only allows constants to take real values. I would be required to extend the present implementation to allow the constants to take complex values as well. This would be done by modifying the \"value\" field of the Constant user-defined type."
   ]
  },
  {
   "cell_type": "code",
   "execution_count": null,
   "metadata": {
    "collapsed": true
   },
   "outputs": [],
   "source": [
    "# The following error occurs while assigning a complex value to a variable in Convex  \n",
    "x = Variable()\n",
    "c1 = x == 6im\n",
    "ERROR: MethodError: no method matching .<=(::Int32, ::Complex{Int32})\n",
    "# I would be required to modify the constant.jl file so that the variables accept the complex values as well."
   ]
  },
  {
   "cell_type": "markdown",
   "metadata": {},
   "source": [
    "We would also need the following checks to validate user input:"
   ]
  },
  {
   "cell_type": "markdown",
   "metadata": {},
   "source": [
    "* Check that the right and the left hand side of the inequality contraint are real expression. This would be done by modifying the LtConstraint and GtConstraint constructors in contraints.jl file. We would be using the utility function \"type_of_expression\" described above to check if the lhs and the rhs of the constraints are real or not."
   ]
  },
  {
   "cell_type": "code",
   "execution_count": null,
   "metadata": {
    "collapsed": true
   },
   "outputs": [],
   "source": [
    "function LtConstraint(lhs::AbstractExpr, rhs::AbstractExpr)\n",
    "    if !type_of_expression(lhs) || !type_of_expression(rhs)\n",
    "        error(\"Either the lhs or rhs is complex expression\")\n",
    "        return\n",
    "    end\n",
    "    if lhs.size == rhs.size || lhs.size == (1, 1)\n",
    "      sz = rhs.size\n",
    "    elseif rhs.size == (1, 1)\n",
    "      sz = lhs.size\n",
    "    else\n",
    "      error(\"Cannot create inequality constraint between expressions of size $(lhs.size) and $(rhs.size)\")\n",
    "    end\n",
    "    id_hash = hash((lhs, rhs, :(<=)))\n",
    "    return new(:(<=), id_hash, lhs, rhs, sz, nothing)\n",
    "  end"
   ]
  },
  {
   "cell_type": "markdown",
   "metadata": {},
   "source": [
    "* Ensure that the objective function is real. \"objective\" is one of the fields of user-defined type \"Problem\". Therefore, it would be required that I modify the constructor of type \"Problem\" so as to check whether the objective function is real or not before an instance of the type Problem is created."
   ]
  },
  {
   "cell_type": "code",
   "execution_count": null,
   "metadata": {
    "collapsed": true
   },
   "outputs": [],
   "source": [
    "function Problem(head::Symbol, objective::AbstractExpr,  \n",
    "                   model::MathProgBase.AbstractConicModel, constraints::Array=Constraint[])\n",
    "    if type_of_expression(objective)\n",
    "        return new(head, objective, constraints, \"not yet solved\", nothing, model\n",
    "    else\n",
    "        error(\"Objective function must be real\")\n",
    "    end\n",
    "  end"
   ]
  },
  {
   "cell_type": "markdown",
   "metadata": {},
   "source": [
    "* Ensure that the last entry of the Second Order Conic Constraint is real."
   ]
  },
  {
   "cell_type": "code",
   "execution_count": null,
   "metadata": {
    "collapsed": true
   },
   "outputs": [],
   "source": []
  },
  {
   "cell_type": "markdown",
   "metadata": {},
   "source": [
    "* All variables in exponential cones must be real. The exponential atoms include log, entropy and many others."
   ]
  },
  {
   "cell_type": "code",
   "execution_count": null,
   "metadata": {
    "collapsed": true
   },
   "outputs": [],
   "source": [
    "# Lets look at one such atom log(x) and the code changes required to to make sure that the arguments are real.\n",
    "type LogAtom <: AbstractExpr\n",
    "  head::Symbol\n",
    "  id_hash::UInt64\n",
    "  children::Tuple{AbstractExpr}\n",
    "  size::Tuple{Int, Int}\n",
    "\n",
    "  function LogAtom(x::AbstractExpr)\n",
    "        # An if statement would be required to perform the check on the expression\n",
    "        if !type_of_expression(x)\n",
    "            error(\"Argument must be real\")\n",
    "        else\n",
    "            children = (x,)\n",
    "            return new(:log, hash(children), children, x.size)\n",
    "        end\n",
    "    end\n",
    "end\n",
    "\n",
    "log(x::AbstractExpr) = LogAtom(x)\n"
   ]
  },
  {
   "cell_type": "code",
   "execution_count": null,
   "metadata": {
    "collapsed": true
   },
   "outputs": [],
   "source": [
    "# overload the dot operator\n",
    "dot(x::Value, y::HermitianSemidefinite) = Constant(x') * y\n",
    "dot(x::HermitianSemidefinite, y::Value) = x' * Constant(y)\n",
    "\n",
    "C = [1 -im;im 1] # Initialized a Hermitian matrix\n",
    "n = 2\n",
    "Z = HermitianSemiDefinite(n)    #Created a complex positive semidefinite matrix \n",
    "objective = dot(Z,C)\n",
    "\n",
    "A = [2 -im;im 1]\n",
    "b = 5\n",
    "c1 = dot(Z,A) <= b\n",
    "c2 = (Z in :HermitianSDP)\n",
    "\n",
    "p = minimize(objective,c1,c2)"
   ]
  },
  {
   "cell_type": "markdown",
   "metadata": {},
   "source": [
    "## 3. Implement the infrastructure to convert the complex SDP to real SDP internally\n",
    "In order to achieve this step, it would be required to make our Convex.jl package capable of distinguishing between real SDPs and complex SDPs. The current implementation exposes an API **\"minimize/maximize\"** to the user and creates an instance of an user-defined type **Problem**. I plan to make changes in the minimize/maximize API making it capable of distinguishing between real and complex SDPs. So, when the SDP is real, the package would use the existing the implementation and create an instance of \"Problem\" as usual but when the SDP is complex, first the package would convert the SDP into real SDP using the transformation $\\tau$ described in the \"Execution\" section and then create an instance of \"Problem\". The end result of this step would be an equivalent real SDP of the given complex SDP."
   ]
  },
  {
   "cell_type": "code",
   "execution_count": null,
   "metadata": {
    "collapsed": true
   },
   "outputs": [],
   "source": [
    "# Redefining minimize/maximize API to distinguish between Real and Complex SDPs\n",
    "\n",
    "function (objective::AbstractExpr, constraints::Constraint...)\n",
    "    if objective.children[2].head == :complex # In the if condition, we use the unique representation of the complex SDP\n",
    "        convert_to_real(:minimize, objective, collect(constraints))\n",
    "    else\n",
    "        Problem(:minimize, objective, collect(constraints))\n",
    "    end\n",
    "end\n",
    "\n",
    "#defining a new function which would take an complex SDP and convert to real SDP using the transformation tau\n",
    "function convert_to_real(head::Symbol, objective::AbstractExpr, constraints::Array=Constraint[])\n",
    "    # These steps would convert the problem to real SDP\n",
    "    # After the conversion to real SDP, we would create an instance of type Problem\n",
    "    Problem(:minimize, objective, collect(constraints))\n",
    "end"
   ]
  },
  {
   "cell_type": "markdown",
   "metadata": {},
   "source": [
    "## 4. Solve the real SDP using existing backend solvers via the MathProgBase interface\n",
    "Now, when we have an equivalent real SDP of the problem, I plan to use the existing implementation in solution.jl which uses methods from MathProgBase package to convert the problem to conic form(since the converted SDP is already in the conic form, we may not need the conversion to conic form), load the problem into solver and optimize it. The **\"solve!\"** would be used to solve the SDP and a new instance of user-defined type **\"Solution\"** is created which has value of the primal and dual variables, status(Optimal, Unbounded), optimum value of the objective function stored in it in different fields. Now, when we have the solution of the real SDP, the next step is to transform the solution of the real SDP to its corresponding complex SDP. Also, the default setting in Convex.jl prints the output from solver(which we disable by passing in verbose=0), I would also need to change the setting so that the output from the solver is not displayed by default as we would not want the solution of the real SDP to be outputted to the user by default."
   ]
  },
  {
   "cell_type": "code",
   "execution_count": null,
   "metadata": {
    "collapsed": true
   },
   "outputs": [],
   "source": [
    "# Given below is the function in the existing source code which I plan to use to solve the transformed real SDP. \n",
    "function solve!(problem::Problem;\n",
    "                warmstart=false, check_vexity=true)\n",
    "\n",
    "#Checking the vexity of the Problem\n",
    "  if check_vexity\n",
    "    vex = vexity(problem)\n",
    "  end\n",
    "    \n",
    "# Convert the problem to the conic form \n",
    "# Since we have formulated the complex SDP in such a way that the existing problem is already in conic form. \n",
    "# The step below can be skipped which would lead to less computation time.\n",
    "  c, A, b, cones, var_to_ranges, vartypes, conic_constraints = conic_problem(problem)\n",
    "    \n",
    "# This method call \"loadproblem\" method from MathProgBase which in turn loads the problem to the existing conic solvers\n",
    "  m = problem.model\n",
    "  load_problem!(m, c, A, b, cones, vartypes)\n",
    "  if warmstart\n",
    "    set_warmstart!(m, problem, length(c), var_to_ranges)\n",
    "  end\n",
    "  \n",
    "# The package uses MathProgbase interface to call the existing methods for optimization\n",
    "  MathProgBase.optimize!(m)\n",
    "\n",
    "# The method below assigns the values to different fields in \"Solution\" type and displays it to the user\n",
    "  populate_solution!(m, problem, var_to_ranges, conic_constraints)\n",
    "  if !(problem.status==:Optimal)\n",
    "    warn(\"Problem status $(problem.status); solution may be inaccurate.\")\n",
    "  end\n",
    "end"
   ]
  },
  {
   "cell_type": "markdown",
   "metadata": {},
   "source": [
    "## 5. Convert the solution of the real SDP into corresponding complex SDP\n",
    "This step is exactly reverse of step 3. In this step, we use the transformation $\\tau^{-1}$ to obtain the solution of the complex SDP from the solution of the real SDP which is obtained in step 4. Lets us assume that the primal value of the variables of the real SDP is stored in temporary variable $Y$ which is a square matrix of order $2n$. As from the transformation $\\tau^{-1}$, it can be easily verified that first $n$ columns of first $n$ rows contain the real part of the complex matrix $X$ and the next $n$ columns contain negative the imaginary part of the matrix $X$. Also, the optimum value of the complex SDP is half the optimum value of the complex SDP. Thus, I would need to implement a new function which would take the primal values and the optimum values of the real SDP and convert to the corresponding complex SDP. This would be done by creating a function which would take the user-defined type **\"Solution\"** (this contains the solution for the real SDP) as an argument and convert it to complex-domain solution. I would also be required to make our solver intelligent so that it could distinguish between real and complex-domain SDPs. This would be done by creating a new field **\"domain\"** in the user-defined type **\"Solution\"** which would take values as either **real or complex**. If the the field **domain** contains value complex then the transformation $\\tau^{-1}$ would be called else no need."
   ]
  },
  {
   "cell_type": "code",
   "execution_count": null,
   "metadata": {
    "collapsed": true
   },
   "outputs": [],
   "source": [
    "# Redefining the user-defined type Solution\n",
    "type Solution{T<:Number}\n",
    "    domain                               # \"domain\" field would either take the value real or complex\n",
    "  primal::Array{T, 1}\n",
    "  dual::Array{T, 1}\n",
    "  status::Symbol\n",
    "  optval::T\n",
    "  has_dual::Bool\n",
    "end\n",
    "\n",
    "#defining a new function which would take the user-defined type \"Solution\", check if the solution is for transformed\n",
    "# SDP. If yes, it would use inverse transformation to get the complex-domain solution.\n",
    "function real_to_complex(s::Solution)\n",
    "    if\n",
    "        s.domain ==\"real\"\n",
    "        return\n",
    "    else\n",
    "        # use the inverse transformation to obtain complex-domain solution. The complex-domain solution\n",
    "        end \n",
    "end\n"
   ]
  },
  {
   "cell_type": "markdown",
   "metadata": {},
   "source": [
    "## 6. Output the complex domain solution to the user\n",
    "Now, when we have the complex-domain solution of the complex SDP. I would be using the existing machinery in Convex.jl to output the optimum value of the objective function and the value of the primal variables.\n",
    "\n",
    "\n",
    "<!-- **Note- ** The **\"evaluate\"** method in the existing atoms can handle the complex variables. But some atoms are only defined over real domain (for example- max(x,0)) thus, I would need to append the warning messages to such atoms in case the users by mistake call the evaluate method with complex argument. --->"
   ]
  },
  {
   "cell_type": "code",
   "execution_count": null,
   "metadata": {
    "collapsed": true
   },
   "outputs": [],
   "source": [
    "# solve the complex SDP\n",
    "solve!(p)\n",
    "p.optval # Displays the optimum values of the complex SDP\n",
    "p.status # Displays whether the optimum point could be reached or not"
   ]
  },
  {
   "cell_type": "markdown",
   "metadata": {},
   "source": [
    "# Timeline (tentative)"
   ]
  },
  {
   "cell_type": "markdown",
   "metadata": {},
   "source": [
    "### Community Bonding period (22nd April - 22nd May) \n",
    "\n",
    "My summer vacation will start from 30th of April. During this period, I would want to get myself more familiarized with the source code of Convex.jl. I have in particular 2 issue in mind which I would like to send the pull request to namely:\n",
    "\n",
    "* `Issue multiplying expressions with matrices.`[#122](https://github.com/JuliaOpt/Convex.jl/issues/122)\n",
    "\n",
    "I believe solving the above issue would help me strengthen my understanding of source code and make myself comfortable with contributing to the package.\n",
    "\n",
    "* `Missing kron for convex programming variables.`[#57](https://github.com/JuliaOpt/Convex.jl/issues/57)\n",
    "\n",
    "This would be the first step towards supporting complex numbers in Convex.jl, **kron** atom is used in Chebychev design of an FIR filter given a desired frequency response. Thus implementing this feature would make Convex.jl useful in the applications related to filter design"
   ]
  },
  {
   "cell_type": "markdown",
   "metadata": {},
   "source": [
    "### Week 1\n",
    "**Goal:** *Implement support for complex variable and complex SDP in Convex.jl*\n",
    "\n",
    "I plan to implement the 6 step procedure described in the \"Execution\" section on weekly basis. We would only be able to merge the code into the existing package after all the 6 steps have been implemented. I would start by making changes in variable.jl file. The end outcome of this week would be that the users would be able to declare a variable as complex-domain variable."
   ]
  },
  {
   "cell_type": "markdown",
   "metadata": {},
   "source": [
    "### Week 2\n",
    "**Goal:** *Overload dot operator and extend minimize/maximize API*\n",
    "\n",
    "In this week, I would overload the multiply dot operator to support complex multiplication and extend the present API for expressing real SDPs to complex SDPs such that it becomes easy for users to express complex SDPs in Convex.jl."
   ]
  },
  {
   "cell_type": "markdown",
   "metadata": {},
   "source": [
    "### Week 3 and 4\n",
    "**Goal:** *Implement new functions for transformation $\\tau$*\n",
    "\n",
    "These 2 weeks would be required to implement step 3 by making changes in problem.jl file. I would also write new routines to convert complex SDPs to real SPDs."
   ]
  },
  {
   "cell_type": "markdown",
   "metadata": {},
   "source": [
    "### Week 5\n",
    "**Goal:** *Integration of existing solvers via MathProgBase interface*\n",
    "\n",
    "During this week, I would work to integrate the existing solvers like SCS, Mosek via MathProgBase interface to solve the transformed real SDP, I would also need to change the default setting in Convex.jl so that the output from the solver is not outputted to the user."
   ]
  },
  {
   "cell_type": "markdown",
   "metadata": {},
   "source": [
    "### Week 6 and 7\n",
    "**Goal:** *Convert the solution of the real SDP into corresponding complex SDP*\n",
    "\n",
    "During these 2 weeks, I implement a new function which would take the primal values and the optimum values of the real SDP and convert to the corresponding complex SDP using the transformation $\\tau^{-1}$."
   ]
  },
  {
   "cell_type": "markdown",
   "metadata": {},
   "source": [
    "### Week 8\n",
    "**Goal:** *Display the complex domain solution to the user*\n",
    "\n",
    "During this week, I would be writing codes to use the existing machinery in Convex.jl to output the optimum value of the objective function and the value of the primal variables to the users once the optimization is complete.\n",
    "\n",
    "At the end of this week, the support for the complex-domain problems in Convex.jl would be ready for testing for the Julia community."
   ]
  },
  {
   "cell_type": "markdown",
   "metadata": {},
   "source": [
    "### Week 9 and 10\n",
    "**Goal:** *Documentation, Notebooks, Bug fixes*\n",
    "\n",
    "By this time I will make sure that none of the above implementations has introduced any bug and are complete by documentation as well as testing. I will extend this period to my Future Work as writing example notebooks and\n",
    "preparing for a major release of the package."
   ]
  },
  {
   "cell_type": "markdown",
   "metadata": {},
   "source": [
    "### Week 11 and 12\n",
    "**Goal:** *Incorporate changes from the feedback given by Julia community and work on presolve routine*\n",
    "\n",
    "During these two weeks, I plan to work on the suggestions given by the Julia community about the new feature I would be adding. I would try to have extensive discussion with the community during this period and incorporate changes so as to make Convex.jl more robust and user-friendly and ready to be released. If time permits, I also plan to understand the existing SDP solvers like SCS and Mosek in detail and try to figure what could be better ways than the existing ones so that we could make our presolve routine better. I would also be required to read and understand the existing presolve routines for Linear Programming Problems so that I could think on similar lines."
   ]
  },
  {
   "cell_type": "markdown",
   "metadata": {},
   "source": [
    "### End-Term evaluation\n",
    "**Goal:** *Working towards the publication*\n",
    "\n",
    "Buffer period for any lagging work. I also aim to work towards writing a research paper during this period under the guidance of my mentors.\n"
   ]
  },
  {
   "cell_type": "markdown",
   "metadata": {},
   "source": [
    "# References\n",
    "[1]. Approximation algorithms for MAX-3-CUT and other problems via complex semidefinite programming. http://www.sciencedirect.com/science/article/pii/S0022000003001454\n",
    "\n",
    "[2]. Invariant semidefinite programs. http://arxiv.org/pdf/1007.2905v2.pdf\n",
    "\n",
    "[3]. Convex Optimization in Julia. http://arxiv.org/pdf/1410.4821.pdf\n",
    "\n",
    "[4]. [#103](https://github.com/JuliaOpt/Convex.jl/issues/103) Support for complex variables.\n",
    "\n",
    "[5]. [#191](https://github.com/cvxgrp/cvxpy/issues/191) Add complex variables.\n",
    "\n",
    "[6]. [Chebychev design of an FIR filter given a desired frequency response](http://nbviewer.jupyter.org/github/cvxgrp/cvxpy/blob/master/examples/notebooks/WWW/fir_chebychev_design.ipynb)\n",
    "\n",
    "<!--- ipython nbconvert --to FORMAT notebook.ipynb --->"
   ]
  }
 ],
 "metadata": {
  "anaconda-cloud": {},
  "kernelspec": {
   "display_name": "Julia 0.5.0-rc3",
   "language": "julia",
   "name": "julia-0.5"
  },
  "language_info": {
   "file_extension": ".jl",
   "mimetype": "application/julia",
   "name": "julia",
   "version": "0.5.1"
  }
 },
 "nbformat": 4,
 "nbformat_minor": 0
}
